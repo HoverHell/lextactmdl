{
 "metadata": {
  "name": "",
  "signature": "sha256:f0256f2aadc84ffbae1254636ac4904e37161059d2a3aa4b659e995fa996444d"
 },
 "nbformat": 3,
 "nbformat_minor": 0,
 "worksheets": [
  {
   "cells": [
    {
     "cell_type": "markdown",
     "metadata": {},
     "source": [
      "Author: HoverHell"
     ]
    },
    {
     "cell_type": "markdown",
     "metadata": {},
     "source": [
      "> Any non-astronomically-small increase in chance of having an astronomically long life is worth more than anything in a normal-duration life."
     ]
    },
    {
     "cell_type": "heading",
     "level": 2,
     "metadata": {},
     "source": [
      "Definitions an assumptions"
     ]
    },
    {
     "cell_type": "markdown",
     "metadata": {},
     "source": [
      " * $p^b$: base probability of an extended life (\u201cxlife\u201d)\n",
      " * $p^n$: probability of a normal-length-only life (\u201cnlife\u201d)\n",
      " * Approximation:\n",
      "   * $p^o$: probability of \u201csomething else\u201d\n",
      "   * Assumption: $p^o \\approx 0$\n",
      "   * Therefore $p^n = 1 - p^b \\approx 1 - p^b$\n",
      " * $p^\\Delta$: expected possible change of the probability of xlife.\n"
     ]
    },
    {
     "cell_type": "markdown",
     "metadata": {},
     "source": [
      " * $u^0$: base utility of nlife\n",
      " * $u^1$: utility of xlife\n",
      " * $length(xlife) \\gg length(nlife)$ (by definition)\n",
      " * Assumption: $U(time) > 0$ on average\n",
      "   * \u201cCognitive capabilities should allow for better-than-random outcomes in an influencable system\u201d\n",
      "   * Therefore $u^1 \\gg u^0$\n"
     ]
    },
    {
     "cell_type": "markdown",
     "metadata": {},
     "source": [
      "* $A^1$: assisting, \u201cwork on increasing the probability of xlife\u201d\n",
      "* $A^0$: unassisting, \u201cenjoy the nlife\u201d\n",
      "* $u^A$: utility of nlife with $A^1$\n",
      "   * $u^A = u^0 + u^\\Delta$\n",
      "   * Assumption: $u^\\Delta$ < 0\n",
      "   * Approximation (for simplicity): $u^A \\approx 0$"
     ]
    },
    {
     "cell_type": "heading",
     "level": 2,
     "metadata": {},
     "source": [
      "Model"
     ]
    },
    {
     "cell_type": "markdown",
     "metadata": {},
     "source": [
      " * $U(A^0) = p^n * u^0 + p^b * u^1 + p^0 * \u2026$\n",
      "   * $U(A^0) = p^n * u^0 + p^b * u^1$\n",
      " * $U(A^1) = (p^n - p^\\Delta) * u^A + (p^b + p^\\Delta) * u^1$\n",
      "   * $U(A^1) = (p^b + p^\\Delta) * u^1$\n",
      " * $U(A^1) - U(A^0) = p^b u^1 + p^\\Delta u^1 - p^n u^0 - p^b u^1$\n",
      "   * $U(A^1) - U(A^0) = p^\\Delta u^1 - p^n u^0$\n"
     ]
    },
    {
     "cell_type": "markdown",
     "metadata": {},
     "source": [
      " * Condition (of preferability):\n",
      "   * $C(A^1): U(A^1) - U(A^0) > 0$\n",
      "     * $C(A^1): p^\\Delta u^1 > p^n u^0$\n",
      "     * $u^1 > 0, p > 0$,\n",
      "     * $C(A^1): p^\\Delta / p^n > u^0 / u^1$\n",
      "     * $C(A^1): p^\\Delta > p^n * u^0 / u^1$"
     ]
    },
    {
     "cell_type": "heading",
     "level": 2,
     "metadata": {},
     "source": [
      "Example"
     ]
    },
    {
     "cell_type": "code",
     "collapsed": false,
     "input": [
      "## Infrastructural\n",
      "from decimal import Decimal as D\n",
      "import pandas as pa\n",
      "DF = pa.DataFrame"
     ],
     "language": "python",
     "metadata": {},
     "outputs": [],
     "prompt_number": 21
    },
    {
     "cell_type": "code",
     "collapsed": false,
     "input": [
      "u0 = D(\"1\")  # utility of nlife  # arbitrary constant here\n",
      "u1 = u0 * D(\"1e5\")  # utility of xlife  # very humble low guess\n",
      "p_b = D(\"1e-6\")  # base probability of xlife  # also somewhat low\n",
      "\n",
      "p_n = 1 - p_b  # probability of nlife  # see assumptions\n",
      "\n",
      "columns = 'u0 u1 p_b p_n min_p_d'.split()\n",
      "c_a1 = lambda: p_d > p_n * (u0 / u1)\n",
      "min_p_d = p_n * (u0 / u1)\n",
      "\n",
      "DF([(u0, u1, p_b, p_n, min_p_d)], columns=columns)"
     ],
     "language": "python",
     "metadata": {},
     "outputs": [
      {
       "html": [
        "<div style=\"max-height:1000px;max-width:1500px;overflow:auto;\">\n",
        "<table border=\"1\" class=\"dataframe\">\n",
        "  <thead>\n",
        "    <tr style=\"text-align: right;\">\n",
        "      <th></th>\n",
        "      <th>u0</th>\n",
        "      <th>u1</th>\n",
        "      <th>p_b</th>\n",
        "      <th>p_n</th>\n",
        "      <th>min_p_d</th>\n",
        "    </tr>\n",
        "  </thead>\n",
        "  <tbody>\n",
        "    <tr>\n",
        "      <th>0</th>\n",
        "      <td> 1</td>\n",
        "      <td> 1E+5</td>\n",
        "      <td> 0.000001</td>\n",
        "      <td> 0.999999</td>\n",
        "      <td> 0.00000999999</td>\n",
        "    </tr>\n",
        "  </tbody>\n",
        "</table>\n",
        "</div>"
       ],
       "metadata": {},
       "output_type": "pyout",
       "prompt_number": 22,
       "text": [
        "  u0    u1       p_b       p_n        min_p_d\n",
        "0  1  1E+5  0.000001  0.999999  0.00000999999"
       ]
      }
     ],
     "prompt_number": 22
    },
    {
     "cell_type": "code",
     "collapsed": false,
     "input": [
      "values = [\n",
      "    # u1, p_b\n",
      "    [D(\"1e2\"), D(\"1e-10\")],\n",
      "    [D(\"1e10\"), D(\"1e-1\")],\n",
      "]\n",
      "DF([[u0, u1, p_b, 1 - p_b, (1 - p_b) * (u0 / u1)]\n",
      "    for u1, p_b in values], columns=columns)"
     ],
     "language": "python",
     "metadata": {},
     "outputs": [
      {
       "html": [
        "<div style=\"max-height:1000px;max-width:1500px;overflow:auto;\">\n",
        "<table border=\"1\" class=\"dataframe\">\n",
        "  <thead>\n",
        "    <tr style=\"text-align: right;\">\n",
        "      <th></th>\n",
        "      <th>u0</th>\n",
        "      <th>u1</th>\n",
        "      <th>p_b</th>\n",
        "      <th>p_n</th>\n",
        "      <th>min_p_d</th>\n",
        "    </tr>\n",
        "  </thead>\n",
        "  <tbody>\n",
        "    <tr>\n",
        "      <th>0</th>\n",
        "      <td> 1</td>\n",
        "      <td>  1E+2</td>\n",
        "      <td> 1E-10</td>\n",
        "      <td> 0.9999999999</td>\n",
        "      <td> 0.009999999999</td>\n",
        "    </tr>\n",
        "    <tr>\n",
        "      <th>1</th>\n",
        "      <td> 1</td>\n",
        "      <td> 1E+10</td>\n",
        "      <td>   0.1</td>\n",
        "      <td>          0.9</td>\n",
        "      <td>          9E-11</td>\n",
        "    </tr>\n",
        "  </tbody>\n",
        "</table>\n",
        "</div>"
       ],
       "metadata": {},
       "output_type": "pyout",
       "prompt_number": 23,
       "text": [
        "  u0     u1    p_b           p_n         min_p_d\n",
        "0  1   1E+2  1E-10  0.9999999999  0.009999999999\n",
        "1  1  1E+10    0.1           0.9           9E-11"
       ]
      }
     ],
     "prompt_number": 23
    },
    {
     "cell_type": "heading",
     "level": 2,
     "metadata": {},
     "source": [
      "Conclusions"
     ]
    },
    {
     "cell_type": "markdown",
     "metadata": {},
     "source": [
      "Any, however small, ability to increase the life extension chances makes it personally worth working towards it."
     ]
    }
   ],
   "metadata": {}
  }
 ]
}