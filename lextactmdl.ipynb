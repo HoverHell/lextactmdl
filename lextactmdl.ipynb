{
 "metadata": {
  "name": "",
  "signature": "sha256:0b2cf1691968088e626f4cd09f552d8851dad422cb7620882d378f6da68cd43c"
 },
 "nbformat": 3,
 "nbformat_minor": 0,
 "worksheets": [
  {
   "cells": [
    {
     "cell_type": "markdown",
     "metadata": {},
     "source": [
      "Author: HoverHell"
     ]
    },
    {
     "cell_type": "markdown",
     "metadata": {},
     "source": [
      "> Any non-astronomically-small increase in chance of having an astronomically long life is worth more than anything in a normal-duration life."
     ]
    },
    {
     "cell_type": "heading",
     "level": 2,
     "metadata": {},
     "source": [
      "Definitions an assumptions"
     ]
    },
    {
     "cell_type": "markdown",
     "metadata": {},
     "source": [
      " * $p^x$: base probability of an extended life (\u201cxlife\u201d)\n",
      " * $p^n$: probability of a normal-length-only life (\u201cnlife\u201d)\n",
      " * Approximation:\n",
      "   * $p^o$: probability of \u201csomething else\u201d\n",
      "   * Assumption: $p^o \\approx 0$\n",
      "   * Therefore $p^n = 1 - p^x - p^0 \\approx 1 - p^x$\n",
      " * $p^\\Delta$: expected possible change of the probability of xlife.\n"
     ]
    },
    {
     "cell_type": "markdown",
     "metadata": {},
     "source": [
      " * $u^n$: base utility of nlife\n",
      " * $u^x$: utility of xlife\n",
      " * $length(xlife) \\gg length(nlife)$ (by definition)\n",
      " * Assumption: utility $U(time) > 0$ on average\n",
      "   * \u201cCognitive capabilities should allow for better-than-random outcomes in an influencable system\u201d\n",
      "   * Therefore $u^x \\gg u^n$\n"
     ]
    },
    {
     "cell_type": "markdown",
     "metadata": {},
     "source": [
      "* Actions:\n",
      "  * $A^x$: assisting, \u201cwork on increasing the probability of xlife\u201d\n",
      "  * $A^n$: unassisting, \u201cenjoy the nlife\u201d\n",
      "* $u^A$: utility of nlife with $A^x$\n",
      "   * $u^A = u^n + u^\\Delta$\n",
      "   * Assumption: $u^\\Delta$ < 0\n",
      "   * Approximation (for simplicity): $u^A \\approx 0$"
     ]
    },
    {
     "cell_type": "heading",
     "level": 2,
     "metadata": {},
     "source": [
      "Model"
     ]
    },
    {
     "cell_type": "markdown",
     "metadata": {},
     "source": [
      " * $U(A^n) = p^n * u^n + p^x * u^x + p^o * \u2026$\n",
      "   * $U(A^n) = p^n * u^n + p^x * u^x$\n",
      " * $U(A^x) = (p^n - p^\\Delta) * u^A + (p^x + p^\\Delta) * u^x$\n",
      "   * $U(A^x) = (p^x + p^\\Delta) * u^x$\n",
      " * $U(A^x) - U(A^n) = p^x u^x + p^\\Delta u^x - p^n u^n - p^x u^x$\n",
      "   * $U(A^x) - U(A^n) = p^\\Delta u^x - p^n u^n$\n"
     ]
    },
    {
     "cell_type": "markdown",
     "metadata": {},
     "source": [
      " * Condition (of preferability):\n",
      "   * $C(A^x): U(A^x) - U(A^n) > 0$\n",
      "     * $C(A^x): p^\\Delta u^x > p^n u^n$\n",
      "     * $u^x > 0, p > 0$,\n",
      "     * $C(A^x): p^\\Delta / p^n > u^n / u^x$\n",
      "     * $C(A^x): p^\\Delta > p^n * u^n / u^x$"
     ]
    },
    {
     "cell_type": "heading",
     "level": 2,
     "metadata": {},
     "source": [
      "Example"
     ]
    },
    {
     "cell_type": "code",
     "collapsed": false,
     "input": [
      "## Infrastructural\n",
      "from decimal import Decimal as D\n",
      "import pandas as pa\n",
      "DF = pa.DataFrame"
     ],
     "language": "python",
     "metadata": {},
     "outputs": [],
     "prompt_number": 1
    },
    {
     "cell_type": "code",
     "collapsed": false,
     "input": [
      "u_n = D(\"1\")  # utility of nlife  # arbitrary constant here\n",
      "u_x = u_n * D(\"1e5\")  # utility of xlife  # very humble low guess\n",
      "p_x = D(\"1e-6\")  # base probability of xlife  # also somewhat low\n",
      "\n",
      "p_n = 1 - p_x  # probability of nlife  # see assumptions\n",
      "\n",
      "columns = 'u_n u_x p_n p_x min_p_d'.split()\n",
      "c_a_x = lambda: p_d > p_n * (u_n / u_x)\n",
      "min_p_d = p_n * (u_n / u_x)\n",
      "\n",
      "DF([(u_n, u_x, p_n, p_x, min_p_d)], columns=columns)"
     ],
     "language": "python",
     "metadata": {},
     "outputs": [
      {
       "html": [
        "<div style=\"max-height:1000px;max-width:1500px;overflow:auto;\">\n",
        "<table border=\"1\" class=\"dataframe\">\n",
        "  <thead>\n",
        "    <tr style=\"text-align: right;\">\n",
        "      <th></th>\n",
        "      <th>u_n</th>\n",
        "      <th>u_x</th>\n",
        "      <th>p_n</th>\n",
        "      <th>p_x</th>\n",
        "      <th>min_p_d</th>\n",
        "    </tr>\n",
        "  </thead>\n",
        "  <tbody>\n",
        "    <tr>\n",
        "      <th>0</th>\n",
        "      <td> 1</td>\n",
        "      <td> 1E+5</td>\n",
        "      <td> 0.999999</td>\n",
        "      <td> 0.000001</td>\n",
        "      <td> 0.00000999999</td>\n",
        "    </tr>\n",
        "  </tbody>\n",
        "</table>\n",
        "</div>"
       ],
       "metadata": {},
       "output_type": "pyout",
       "prompt_number": 2,
       "text": [
        "  u_n   u_x       p_n       p_x        min_p_d\n",
        "0   1  1E+5  0.999999  0.000001  0.00000999999"
       ]
      }
     ],
     "prompt_number": 2
    },
    {
     "cell_type": "code",
     "collapsed": false,
     "input": [
      "values = [\n",
      "    # u_x, p_x\n",
      "    [D(\"1e2\"), D(\"1e-10\")],\n",
      "    [D(\"1e10\"), D(\"1e-1\")],\n",
      "]\n",
      "DF([[u_n, u_x, 1 - p_x, p_x, (1 - p_x) * (u_n / u_x)]\n",
      "    for u_x, p_x in values], columns=columns)"
     ],
     "language": "python",
     "metadata": {},
     "outputs": [
      {
       "html": [
        "<div style=\"max-height:1000px;max-width:1500px;overflow:auto;\">\n",
        "<table border=\"1\" class=\"dataframe\">\n",
        "  <thead>\n",
        "    <tr style=\"text-align: right;\">\n",
        "      <th></th>\n",
        "      <th>u_n</th>\n",
        "      <th>u_x</th>\n",
        "      <th>p_n</th>\n",
        "      <th>p_x</th>\n",
        "      <th>min_p_d</th>\n",
        "    </tr>\n",
        "  </thead>\n",
        "  <tbody>\n",
        "    <tr>\n",
        "      <th>0</th>\n",
        "      <td> 1</td>\n",
        "      <td>  1E+2</td>\n",
        "      <td> 0.9999999999</td>\n",
        "      <td> 1E-10</td>\n",
        "      <td> 0.009999999999</td>\n",
        "    </tr>\n",
        "    <tr>\n",
        "      <th>1</th>\n",
        "      <td> 1</td>\n",
        "      <td> 1E+10</td>\n",
        "      <td>          0.9</td>\n",
        "      <td>   0.1</td>\n",
        "      <td>          9E-11</td>\n",
        "    </tr>\n",
        "  </tbody>\n",
        "</table>\n",
        "</div>"
       ],
       "metadata": {},
       "output_type": "pyout",
       "prompt_number": 6,
       "text": [
        "  u_n    u_x           p_n    p_x         min_p_d\n",
        "0   1   1E+2  0.9999999999  1E-10  0.009999999999\n",
        "1   1  1E+10           0.9    0.1           9E-11"
       ]
      }
     ],
     "prompt_number": 6
    },
    {
     "cell_type": "heading",
     "level": 2,
     "metadata": {},
     "source": [
      "Notes"
     ]
    },
    {
     "cell_type": "markdown",
     "metadata": {},
     "source": [
      "  * The whole model assumes that life extension gives time to do more life extension, making scenarios between nlife and xlife improbable.\n",
      "  * If $p^x$ is close to 0, $p^\\Delta \\approx u^n / u^x$.\n",
      "  * Probability values of 1e-3 are below noise level; conclusions of that for the relevant estimated setuations are unclear.\n",
      "  * Life extension paths and technologies can vary; from cyborgisation to mind-uploading.\n",
      "  * Whether there can be more-than-current-civilisation-stable dystopic economies given life extension technologies is an open question."
     ]
    }
   ],
   "metadata": {}
  }
 ]
}